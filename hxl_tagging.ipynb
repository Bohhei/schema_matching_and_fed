{
 "cells": [
  {
   "cell_type": "code",
   "execution_count": 1,
   "id": "4ff1e237",
   "metadata": {},
   "outputs": [
    {
     "data": {
      "application/vnd.jupyter.widget-view+json": {
       "model_id": "d8391500e1ab4a17a8a2b92e6da87fb8",
       "version_major": 2,
       "version_minor": 0
      },
      "text/plain": [
       "Loading checkpoint shards:   0%|          | 0/2 [00:00<?, ?it/s]"
      ]
     },
     "metadata": {},
     "output_type": "display_data"
    }
   ],
   "source": [
    "from hxl_tag import HXLTagger\n",
    "\n",
    "hxl_tagger = HXLTagger()"
   ]
  },
  {
   "cell_type": "code",
   "execution_count": 14,
   "id": "32622b3f",
   "metadata": {},
   "outputs": [],
   "source": [
    "import numpy as np"
   ]
  },
  {
   "cell_type": "code",
   "execution_count": 2,
   "id": "e38a3825",
   "metadata": {},
   "outputs": [],
   "source": [
    "import pandas as pd\n",
    "path_ = r'C:\\Users\\shepe\\Downloads\\Valentine-datasets\\prospect\\Unionable'\n",
    "all_data_name1 = 'prospect_horizontal_50_ec_av'\n",
    "data_name1 = all_data_name1+'_source'\n",
    "df1 = pd.read_csv(r'{}\\{}\\{}'.format(path_, all_data_name1,data_name1+'.csv'))"
   ]
  },
  {
   "cell_type": "code",
   "execution_count": 3,
   "id": "a9bf894a",
   "metadata": {},
   "outputs": [
    {
     "name": "stderr",
     "output_type": "stream",
     "text": [
      "100%|██████████████████████████████████████████████████████████████████████████████████| 22/22 [01:08<00:00,  3.09s/it]\n"
     ]
    },
    {
     "data": {
      "text/plain": [
       "[{'tagname': 'id', 'attributes': ['agency'], 'full': '#id+agency'},\n",
       " {'tagname': 'name', 'attributes': ['last'], 'full': '#name+last'},\n",
       " {'tagname': 'name', 'attributes': [], 'full': '#name'},\n",
       " {'tagname': 'id', 'attributes': ['middle'], 'full': '#id+middle'},\n",
       " {'tagname': 'gender', 'attributes': ['name'], 'full': '#gender+name'},\n",
       " {'tagname': 'address', 'attributes': ['line'], 'full': '#address+line'},\n",
       " {'tagname': 'address', 'attributes': ['line'], 'full': '#address+line'},\n",
       " {'tagname': 'postcode', 'attributes': [], 'full': '#postcode'},\n",
       " {'tagname': 'city', 'attributes': ['name'], 'full': '#city+name'},\n",
       " {'tagname': 'state', 'attributes': ['name'], 'full': '#state+name'},\n",
       " {'tagname': 'country', 'attributes': ['name'], 'full': '#country+name'},\n",
       " {'tagname': 'phone', 'attributes': ['name'], 'full': '#phone+name'},\n",
       " {'tagname': 'income', 'attributes': [], 'full': '#income'},\n",
       " {'tagname': 'car', 'attributes': ['number'], 'full': '#car+number'},\n",
       " {'tagname': 'score', 'attributes': ['children'], 'full': '#score+children'},\n",
       " {'tagname': 'status', 'attributes': ['marriage'], 'full': '#status+marriage'},\n",
       " {'tagname': 'age', 'attributes': [], 'full': '#age'},\n",
       " {'tagname': 'score', 'attributes': ['credit'], 'full': '#score+credit'},\n",
       " {'tagname': 'property',\n",
       "  'attributes': ['owning', 'rent'],\n",
       "  'full': '#property+owning+rent'},\n",
       " {'tagname': 'person', 'attributes': ['employer'], 'full': '#person+employer'},\n",
       " {'tagname': 'number',\n",
       "  'attributes': ['creditcards'],\n",
       "  'full': '#number+creditcards'},\n",
       " {'tagname': 'value', 'attributes': ['networth'], 'full': '#value+networth'}]"
      ]
     },
     "execution_count": 3,
     "metadata": {},
     "output_type": "execute_result"
    }
   ],
   "source": [
    "table1_hxl_tags = hxl_tagger.get_hxl_tags(df1)\n",
    "table1_hxl_tags"
   ]
  },
  {
   "cell_type": "code",
   "execution_count": 4,
   "id": "f0788a58",
   "metadata": {},
   "outputs": [
    {
     "data": {
      "text/html": [
       "<div>\n",
       "<style scoped>\n",
       "    .dataframe tbody tr th:only-of-type {\n",
       "        vertical-align: middle;\n",
       "    }\n",
       "\n",
       "    .dataframe tbody tr th {\n",
       "        vertical-align: top;\n",
       "    }\n",
       "\n",
       "    .dataframe thead th {\n",
       "        text-align: right;\n",
       "    }\n",
       "</style>\n",
       "<table border=\"1\" class=\"dataframe\">\n",
       "  <thead>\n",
       "    <tr style=\"text-align: right;\">\n",
       "      <th></th>\n",
       "      <th>AgencyID</th>\n",
       "      <th>LastName</th>\n",
       "      <th>FirstName</th>\n",
       "      <th>MiddleInitial</th>\n",
       "      <th>Gender</th>\n",
       "      <th>AddressLine1</th>\n",
       "      <th>AddressLine2</th>\n",
       "      <th>PostalCode</th>\n",
       "      <th>City</th>\n",
       "      <th>State</th>\n",
       "      <th>...</th>\n",
       "      <th>Income</th>\n",
       "      <th>NumberCars</th>\n",
       "      <th>NumberChildren</th>\n",
       "      <th>MaritalStatus</th>\n",
       "      <th>Age</th>\n",
       "      <th>CreditRating</th>\n",
       "      <th>OwnOrRentFlag</th>\n",
       "      <th>Employer</th>\n",
       "      <th>NumberCreditCards</th>\n",
       "      <th>NetWorth</th>\n",
       "    </tr>\n",
       "  </thead>\n",
       "  <tbody>\n",
       "    <tr>\n",
       "      <th>0</th>\n",
       "      <td>PEL0</td>\n",
       "      <td>PELLAND</td>\n",
       "      <td>Netti</td>\n",
       "      <td>NaN</td>\n",
       "      <td>f</td>\n",
       "      <td>21847 olympia street</td>\n",
       "      <td>NaN</td>\n",
       "      <td>T6b 1i1</td>\n",
       "      <td>Fairbanks</td>\n",
       "      <td>MA</td>\n",
       "      <td>...</td>\n",
       "      <td>368776.0</td>\n",
       "      <td>NaN</td>\n",
       "      <td>3.0</td>\n",
       "      <td>W</td>\n",
       "      <td>20.0</td>\n",
       "      <td>760.0</td>\n",
       "      <td>O</td>\n",
       "      <td>Brink's</td>\n",
       "      <td>NaN</td>\n",
       "      <td>1058868.0</td>\n",
       "    </tr>\n",
       "    <tr>\n",
       "      <th>1</th>\n",
       "      <td>LED1</td>\n",
       "      <td>LEDUC</td>\n",
       "      <td>TRUDY</td>\n",
       "      <td>NaN</td>\n",
       "      <td>F</td>\n",
       "      <td>245 congress court</td>\n",
       "      <td>APT. 624</td>\n",
       "      <td>77281</td>\n",
       "      <td>Quebec</td>\n",
       "      <td>PA</td>\n",
       "      <td>...</td>\n",
       "      <td>177967.0</td>\n",
       "      <td>5.0</td>\n",
       "      <td>1.0</td>\n",
       "      <td>U</td>\n",
       "      <td>3.0</td>\n",
       "      <td>555.0</td>\n",
       "      <td>U</td>\n",
       "      <td>NaN</td>\n",
       "      <td>6.0</td>\n",
       "      <td>1988185.0</td>\n",
       "    </tr>\n",
       "    <tr>\n",
       "      <th>2</th>\n",
       "      <td>lat2</td>\n",
       "      <td>latif</td>\n",
       "      <td>ireland</td>\n",
       "      <td>NaN</td>\n",
       "      <td>NaN</td>\n",
       "      <td>6517 frailing west</td>\n",
       "      <td>NaN</td>\n",
       "      <td>91355</td>\n",
       "      <td>Henderson</td>\n",
       "      <td>Alberta</td>\n",
       "      <td>...</td>\n",
       "      <td>321772.0</td>\n",
       "      <td>2.0</td>\n",
       "      <td>1.0</td>\n",
       "      <td>S</td>\n",
       "      <td>NaN</td>\n",
       "      <td>566.0</td>\n",
       "      <td>O</td>\n",
       "      <td>NaN</td>\n",
       "      <td>6.0</td>\n",
       "      <td>3673128.0</td>\n",
       "    </tr>\n",
       "    <tr>\n",
       "      <th>3</th>\n",
       "      <td>RUD3</td>\n",
       "      <td>RUDDICK</td>\n",
       "      <td>Misti</td>\n",
       "      <td>NaN</td>\n",
       "      <td>NaN</td>\n",
       "      <td>11449 blalock park</td>\n",
       "      <td>NaN</td>\n",
       "      <td>36615</td>\n",
       "      <td>Salem</td>\n",
       "      <td>AR</td>\n",
       "      <td>...</td>\n",
       "      <td>25449.0</td>\n",
       "      <td>2.0</td>\n",
       "      <td>1.0</td>\n",
       "      <td>W</td>\n",
       "      <td>77.0</td>\n",
       "      <td>NaN</td>\n",
       "      <td>O</td>\n",
       "      <td>Air Products &amp; Chemicals</td>\n",
       "      <td>3.0</td>\n",
       "      <td>2005895.0</td>\n",
       "    </tr>\n",
       "    <tr>\n",
       "      <th>4</th>\n",
       "      <td>JAY4</td>\n",
       "      <td>JAYAMANNE</td>\n",
       "      <td>sarena</td>\n",
       "      <td>M</td>\n",
       "      <td>f</td>\n",
       "      <td>18354 dodd court</td>\n",
       "      <td>Apt. 619</td>\n",
       "      <td>t6a 1i3</td>\n",
       "      <td>Toledo</td>\n",
       "      <td>OR</td>\n",
       "      <td>...</td>\n",
       "      <td>166567.0</td>\n",
       "      <td>0.0</td>\n",
       "      <td>3.0</td>\n",
       "      <td>M</td>\n",
       "      <td>21.0</td>\n",
       "      <td>815.0</td>\n",
       "      <td>O</td>\n",
       "      <td>Oshkosh</td>\n",
       "      <td>4.0</td>\n",
       "      <td>624736.0</td>\n",
       "    </tr>\n",
       "  </tbody>\n",
       "</table>\n",
       "<p>5 rows × 22 columns</p>\n",
       "</div>"
      ],
      "text/plain": [
       "  AgencyID   LastName FirstName MiddleInitial Gender          AddressLine1  \\\n",
       "0     PEL0    PELLAND     Netti           NaN      f  21847 olympia street   \n",
       "1     LED1      LEDUC     TRUDY           NaN      F    245 congress court   \n",
       "2     lat2      latif   ireland           NaN    NaN    6517 frailing west   \n",
       "3     RUD3    RUDDICK     Misti           NaN    NaN    11449 blalock park   \n",
       "4     JAY4  JAYAMANNE    sarena             M      f      18354 dodd court   \n",
       "\n",
       "  AddressLine2 PostalCode       City    State  ...    Income NumberCars  \\\n",
       "0          NaN    T6b 1i1  Fairbanks       MA  ...  368776.0        NaN   \n",
       "1     APT. 624      77281     Quebec       PA  ...  177967.0        5.0   \n",
       "2          NaN      91355  Henderson  Alberta  ...  321772.0        2.0   \n",
       "3          NaN      36615      Salem       AR  ...   25449.0        2.0   \n",
       "4     Apt. 619    t6a 1i3     Toledo       OR  ...  166567.0        0.0   \n",
       "\n",
       "   NumberChildren  MaritalStatus   Age CreditRating  OwnOrRentFlag  \\\n",
       "0             3.0              W  20.0        760.0              O   \n",
       "1             1.0              U   3.0        555.0              U   \n",
       "2             1.0              S   NaN        566.0              O   \n",
       "3             1.0              W  77.0          NaN              O   \n",
       "4             3.0              M  21.0        815.0              O   \n",
       "\n",
       "                   Employer NumberCreditCards   NetWorth  \n",
       "0                   Brink's               NaN  1058868.0  \n",
       "1                       NaN               6.0  1988185.0  \n",
       "2                       NaN               6.0  3673128.0  \n",
       "3  Air Products & Chemicals               3.0  2005895.0  \n",
       "4                   Oshkosh               4.0   624736.0  \n",
       "\n",
       "[5 rows x 22 columns]"
      ]
     },
     "execution_count": 4,
     "metadata": {},
     "output_type": "execute_result"
    }
   ],
   "source": [
    "df1.head()"
   ]
  },
  {
   "cell_type": "code",
   "execution_count": 6,
   "id": "077c9788",
   "metadata": {},
   "outputs": [
    {
     "data": {
      "text/plain": [
       "{'tagname': 'id', 'attributes': ['agency'], 'full': '#id+agency'}"
      ]
     },
     "execution_count": 6,
     "metadata": {},
     "output_type": "execute_result"
    }
   ],
   "source": [
    "table1_hxl_tags[0]"
   ]
  },
  {
   "cell_type": "code",
   "execution_count": 12,
   "id": "6363689a",
   "metadata": {},
   "outputs": [],
   "source": [
    "from nltk.translate import bleu\n",
    "from nltk.translate.bleu_score import SmoothingFunction\n",
    "smoothie = SmoothingFunction().method4\n",
    "\n",
    "def jaccard_score(list1, list2):\n",
    "    \"\"\"\n",
    "    Calculate jaccard score between two lists.\n",
    "    \"\"\"\n",
    "    set1 = set(list1)\n",
    "    set2 = set(list2)\n",
    "    # prevent zero division\n",
    "    if len(set1.union(set2)) == 0:\n",
    "        return 0\n",
    "    return len(set1.intersection(set2)) / len(set1.union(set2))\n",
    "\n",
    "def get_hxl_tags_features(hxl_tags1, hxl_tags2):\n",
    "    \"\"\"\n",
    "    Use some rules to calculate features.\n",
    "    \"\"\"\n",
    "    tagname_bleu_score = bleu([hxl_tags1[\"tagname\"]], hxl_tags2[\"tagname\"], smoothing_function=smoothie)\n",
    "    attribute_jaccard_score = jaccard_score(hxl_tags1[\"attributes\"], hxl_tags2[\"attributes\"])\n",
    "    #full_transformer_score = transformer_similarity(hxl_tags1[\"full\"], hxl_tags2[\"full\"]) \n",
    "    hxltags_features = np.array([tagname_bleu_score, attribute_jaccard_score])\n",
    "    return hxltags_features"
   ]
  },
  {
   "cell_type": "code",
   "execution_count": 9,
   "id": "5b6d4849",
   "metadata": {},
   "outputs": [
    {
     "name": "stderr",
     "output_type": "stream",
     "text": [
      "100%|██████████████████████████████████████████████████████████████████████████████████| 22/22 [01:08<00:00,  3.13s/it]\n"
     ]
    }
   ],
   "source": [
    "data_name1 = all_data_name1+'_target'\n",
    "df2 = pd.read_csv(r'{}\\{}\\{}'.format(path_, all_data_name1,data_name1+'.csv'))\n",
    "table2_hxl_tags = hxl_tagger.get_hxl_tags(df2)"
   ]
  },
  {
   "cell_type": "code",
   "execution_count": 15,
   "id": "d99ece6f",
   "metadata": {},
   "outputs": [],
   "source": [
    "c1 = table1_hxl_tags[0]\n",
    "c2 = table2_hxl_tags[0]\n",
    "hxl_tags_features = get_hxl_tags_features(c1, c2)"
   ]
  },
  {
   "cell_type": "code",
   "execution_count": 17,
   "id": "a1075593",
   "metadata": {},
   "outputs": [
    {
     "data": {
      "text/plain": [
       "({'tagname': 'id', 'attributes': ['agency'], 'full': '#id+agency'},\n",
       " {'tagname': 'id', 'attributes': ['agency'], 'full': '#id+agency'})"
      ]
     },
     "execution_count": 17,
     "metadata": {},
     "output_type": "execute_result"
    }
   ],
   "source": [
    "c1,c2"
   ]
  },
  {
   "cell_type": "code",
   "execution_count": 16,
   "id": "832bd941",
   "metadata": {},
   "outputs": [
    {
     "data": {
      "text/plain": [
       "array([0.22138859, 1.        ])"
      ]
     },
     "execution_count": 16,
     "metadata": {},
     "output_type": "execute_result"
    }
   ],
   "source": [
    "hxl_tags_features"
   ]
  }
 ],
 "metadata": {
  "kernelspec": {
   "display_name": "Python 3 (ipykernel)",
   "language": "python",
   "name": "python3"
  },
  "language_info": {
   "codemirror_mode": {
    "name": "ipython",
    "version": 3
   },
   "file_extension": ".py",
   "mimetype": "text/x-python",
   "name": "python",
   "nbconvert_exporter": "python",
   "pygments_lexer": "ipython3",
   "version": "3.9.13"
  }
 },
 "nbformat": 4,
 "nbformat_minor": 5
}
