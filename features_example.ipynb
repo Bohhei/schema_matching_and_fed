{
 "cells": [
  {
   "cell_type": "code",
   "execution_count": 5,
   "id": "0cc2243b",
   "metadata": {},
   "outputs": [
    {
     "data": {
      "application/vnd.jupyter.widget-view+json": {
       "model_id": "95c452580da34d4d91eeb1986c27504f",
       "version_major": 2,
       "version_minor": 0
      },
      "text/plain": [
       "Loading checkpoint shards:   0%|          | 0/2 [00:00<?, ?it/s]"
      ]
     },
     "metadata": {},
     "output_type": "display_data"
    }
   ],
   "source": [
    "import pandas as pd\n",
    "import numpy as np\n",
    "from hxl_tag import HXLTagger\n",
    "\n",
    "hxl_tagger = HXLTagger()"
   ]
  },
  {
   "cell_type": "code",
   "execution_count": 4,
   "id": "5d659579",
   "metadata": {},
   "outputs": [],
   "source": [
    "df = pd.read_pickle('./datasets/with_feature_extraction_2/wikidata.p')"
   ]
  },
  {
   "cell_type": "code",
   "execution_count": 6,
   "id": "ed47ae6f",
   "metadata": {},
   "outputs": [],
   "source": [
    "l1 = df[df['attribute_match']==1]"
   ]
  },
  {
   "cell_type": "code",
   "execution_count": 22,
   "id": "4d63ca79",
   "metadata": {},
   "outputs": [
    {
     "data": {
      "text/plain": [
       "array(['musicians_unionable_source', 'musicians_unionable_target',\n",
       "       'genreLabel', 'kind', 1,\n",
       "       list([0.36772706316274784, 1, 336, 28, 3, 11.094356132419426, 0, 0, 0, 0, 0, 0, 0, 0, 0.36772706316274784, 1, 152, 31, 3, 11.749453113606533, 0, 0, 0, 0, 0, 0, 0, 0, 1.0, 0.0, 0.051917748286422594, 0.410445205144053, 0.3189441446696806, 0])],\n",
       "      dtype=object)"
      ]
     },
     "execution_count": 22,
     "metadata": {},
     "output_type": "execute_result"
    }
   ],
   "source": [
    "vals  = l1.values[10]\n",
    "vals"
   ]
  },
  {
   "cell_type": "code",
   "execution_count": 23,
   "id": "721875c5",
   "metadata": {},
   "outputs": [
    {
     "data": {
      "text/html": [
       "<div>\n",
       "<style scoped>\n",
       "    .dataframe tbody tr th:only-of-type {\n",
       "        vertical-align: middle;\n",
       "    }\n",
       "\n",
       "    .dataframe tbody tr th {\n",
       "        vertical-align: top;\n",
       "    }\n",
       "\n",
       "    .dataframe thead th {\n",
       "        text-align: right;\n",
       "    }\n",
       "</style>\n",
       "<table border=\"1\" class=\"dataframe\">\n",
       "  <thead>\n",
       "    <tr style=\"text-align: right;\">\n",
       "      <th></th>\n",
       "      <th>musicianID</th>\n",
       "      <th>musicianName</th>\n",
       "      <th>genderType</th>\n",
       "      <th>birthDate</th>\n",
       "      <th>city</th>\n",
       "      <th>familyName</th>\n",
       "      <th>forename</th>\n",
       "      <th>fatherName</th>\n",
       "      <th>motherName</th>\n",
       "      <th>spouse</th>\n",
       "      <th>NChildren</th>\n",
       "      <th>kind</th>\n",
       "      <th>webpage</th>\n",
       "      <th>residence</th>\n",
       "      <th>ethnicity</th>\n",
       "      <th>religionLabel</th>\n",
       "      <th>kickoff</th>\n",
       "      <th>twitterUsername</th>\n",
       "      <th>geniusNameLabel</th>\n",
       "      <th>recordCompany</th>\n",
       "    </tr>\n",
       "  </thead>\n",
       "  <tbody>\n",
       "    <tr>\n",
       "      <th>0</th>\n",
       "      <td>http://www.wikidata.org/entity/Q6096</td>\n",
       "      <td>Bigg Snoop Dogg</td>\n",
       "      <td>m</td>\n",
       "      <td>1971-10-20T00:00:00Z</td>\n",
       "      <td>Long Beach</td>\n",
       "      <td>Broadus</td>\n",
       "      <td>Cordozar</td>\n",
       "      <td>NaN</td>\n",
       "      <td>NaN</td>\n",
       "      <td>NaN</td>\n",
       "      <td>4.0</td>\n",
       "      <td>African-American music</td>\n",
       "      <td>http://snoopdogg.com/</td>\n",
       "      <td>NaN</td>\n",
       "      <td>African Americans</td>\n",
       "      <td>Islam</td>\n",
       "      <td>1991-01-01T00:00:00Z</td>\n",
       "      <td>snoopdogg</td>\n",
       "      <td>Snoop-dogg</td>\n",
       "      <td>Death Row Records</td>\n",
       "    </tr>\n",
       "    <tr>\n",
       "      <th>1</th>\n",
       "      <td>http://www.wikidata.org/entity/Q5977</td>\n",
       "      <td>00085469927 IPI</td>\n",
       "      <td>m</td>\n",
       "      <td>1936-09-07T00:00:00Z</td>\n",
       "      <td>Lubbock</td>\n",
       "      <td>Holley</td>\n",
       "      <td>Hardin</td>\n",
       "      <td>NaN</td>\n",
       "      <td>NaN</td>\n",
       "      <td>Maria Elena Holly</td>\n",
       "      <td>NaN</td>\n",
       "      <td>rock and roll</td>\n",
       "      <td>http://www.buddyholly.com</td>\n",
       "      <td>NaN</td>\n",
       "      <td>NaN</td>\n",
       "      <td>Baptists</td>\n",
       "      <td>1952-01-01T00:00:00Z</td>\n",
       "      <td>NaN</td>\n",
       "      <td>Buddy-holly</td>\n",
       "      <td>Brunswick</td>\n",
       "    </tr>\n",
       "    <tr>\n",
       "      <th>2</th>\n",
       "      <td>http://www.wikidata.org/entity/Q8349</td>\n",
       "      <td>Al Yankovic</td>\n",
       "      <td>m</td>\n",
       "      <td>1959-10-23T00:00:00Z</td>\n",
       "      <td>Downey</td>\n",
       "      <td>Yankovic</td>\n",
       "      <td>Alfred</td>\n",
       "      <td>Nick Louis Yankovic</td>\n",
       "      <td>Mary Yankovic</td>\n",
       "      <td>Suzanne Yankovic</td>\n",
       "      <td>NaN</td>\n",
       "      <td>humor</td>\n",
       "      <td>http://weirdal.com/</td>\n",
       "      <td>NaN</td>\n",
       "      <td>NaN</td>\n",
       "      <td>Christianity</td>\n",
       "      <td>1976-01-01T00:00:00Z</td>\n",
       "      <td>alyankovic</td>\n",
       "      <td>Weird-al-yankovic</td>\n",
       "      <td>Volcano Entertainment</td>\n",
       "    </tr>\n",
       "    <tr>\n",
       "      <th>3</th>\n",
       "      <td>http://www.wikidata.org/entity/Q1779</td>\n",
       "      <td>Pops</td>\n",
       "      <td>m</td>\n",
       "      <td>1901-08-04T00:00:00Z</td>\n",
       "      <td>New Orleans</td>\n",
       "      <td>Armstrong</td>\n",
       "      <td>Louis</td>\n",
       "      <td>NaN</td>\n",
       "      <td>NaN</td>\n",
       "      <td>Lil Hardin Armstrong</td>\n",
       "      <td>NaN</td>\n",
       "      <td>popular music</td>\n",
       "      <td>http://www.louisarmstronghouse.org/</td>\n",
       "      <td>NaN</td>\n",
       "      <td>African Americans</td>\n",
       "      <td>NaN</td>\n",
       "      <td>1914-01-01T00:00:00Z</td>\n",
       "      <td>NaN</td>\n",
       "      <td>NaN</td>\n",
       "      <td>Decca</td>\n",
       "    </tr>\n",
       "    <tr>\n",
       "      <th>4</th>\n",
       "      <td>http://www.wikidata.org/entity/Q4270</td>\n",
       "      <td>Ava DeLonge</td>\n",
       "      <td>m</td>\n",
       "      <td>1975-12-13T00:00:00Z</td>\n",
       "      <td>Poway</td>\n",
       "      <td>Delonge</td>\n",
       "      <td>Thomas</td>\n",
       "      <td>NaN</td>\n",
       "      <td>NaN</td>\n",
       "      <td>Jennifer DeLonge</td>\n",
       "      <td>NaN</td>\n",
       "      <td>pop music</td>\n",
       "      <td>http://blink-182.com/</td>\n",
       "      <td>Del Mar</td>\n",
       "      <td>NaN</td>\n",
       "      <td>NaN</td>\n",
       "      <td>1992-01-01T00:00:00Z</td>\n",
       "      <td>tomdelonge</td>\n",
       "      <td>Tom-delonge</td>\n",
       "      <td>DGC Records</td>\n",
       "    </tr>\n",
       "    <tr>\n",
       "      <th>...</th>\n",
       "      <td>...</td>\n",
       "      <td>...</td>\n",
       "      <td>...</td>\n",
       "      <td>...</td>\n",
       "      <td>...</td>\n",
       "      <td>...</td>\n",
       "      <td>...</td>\n",
       "      <td>...</td>\n",
       "      <td>...</td>\n",
       "      <td>...</td>\n",
       "      <td>...</td>\n",
       "      <td>...</td>\n",
       "      <td>...</td>\n",
       "      <td>...</td>\n",
       "      <td>...</td>\n",
       "      <td>...</td>\n",
       "      <td>...</td>\n",
       "      <td>...</td>\n",
       "      <td>...</td>\n",
       "      <td>...</td>\n",
       "    </tr>\n",
       "    <tr>\n",
       "      <th>10840</th>\n",
       "      <td>http://www.wikidata.org/entity/Q65463024</td>\n",
       "      <td>Miko Cree</td>\n",
       "      <td>m</td>\n",
       "      <td>1901-01-01T00:00:00Z</td>\n",
       "      <td>Florida</td>\n",
       "      <td>González</td>\n",
       "      <td>Credo</td>\n",
       "      <td>NaN</td>\n",
       "      <td>NaN</td>\n",
       "      <td>NaN</td>\n",
       "      <td>NaN</td>\n",
       "      <td>dance music</td>\n",
       "      <td>NaN</td>\n",
       "      <td>NaN</td>\n",
       "      <td>NaN</td>\n",
       "      <td>NaN</td>\n",
       "      <td>2017-01-01T00:00:00Z</td>\n",
       "      <td>MikoCree</td>\n",
       "      <td>mikocreed</td>\n",
       "      <td>Latin Sumo Records</td>\n",
       "    </tr>\n",
       "    <tr>\n",
       "      <th>10841</th>\n",
       "      <td>http://www.wikidata.org/entity/Q61000234</td>\n",
       "      <td>Casado com Sina Deinert</td>\n",
       "      <td>m</td>\n",
       "      <td>2001-03-31T00:00:00Z</td>\n",
       "      <td>Orange</td>\n",
       "      <td>Urrea</td>\n",
       "      <td>Noah</td>\n",
       "      <td>NaN</td>\n",
       "      <td>NaN</td>\n",
       "      <td>NaN</td>\n",
       "      <td>NaN</td>\n",
       "      <td>NaN</td>\n",
       "      <td>https://www.noahurrea.com/</td>\n",
       "      <td>NaN</td>\n",
       "      <td>NaN</td>\n",
       "      <td>NaN</td>\n",
       "      <td>NaN</td>\n",
       "      <td>noahurrea</td>\n",
       "      <td>Noah-urrea</td>\n",
       "      <td>NaN</td>\n",
       "    </tr>\n",
       "    <tr>\n",
       "      <th>10842</th>\n",
       "      <td>http://www.wikidata.org/entity/Q61693947</td>\n",
       "      <td>NaN</td>\n",
       "      <td>f</td>\n",
       "      <td>2001-05-03T00:00:00Z</td>\n",
       "      <td>Clifton</td>\n",
       "      <td>NaN</td>\n",
       "      <td>Rachel</td>\n",
       "      <td>NaN</td>\n",
       "      <td>NaN</td>\n",
       "      <td>NaN</td>\n",
       "      <td>NaN</td>\n",
       "      <td>NaN</td>\n",
       "      <td>NaN</td>\n",
       "      <td>NaN</td>\n",
       "      <td>NaN</td>\n",
       "      <td>NaN</td>\n",
       "      <td>NaN</td>\n",
       "      <td>rachelzegler</td>\n",
       "      <td>Rachel-zegler</td>\n",
       "      <td>NaN</td>\n",
       "    </tr>\n",
       "    <tr>\n",
       "      <th>10843</th>\n",
       "      <td>http://www.wikidata.org/entity/Q75046320</td>\n",
       "      <td>NaN</td>\n",
       "      <td>f</td>\n",
       "      <td>2002-03-31T00:00:00Z</td>\n",
       "      <td>Walnut Creek</td>\n",
       "      <td>Walker</td>\n",
       "      <td>Lexi</td>\n",
       "      <td>NaN</td>\n",
       "      <td>NaN</td>\n",
       "      <td>NaN</td>\n",
       "      <td>NaN</td>\n",
       "      <td>NaN</td>\n",
       "      <td>NaN</td>\n",
       "      <td>NaN</td>\n",
       "      <td>NaN</td>\n",
       "      <td>NaN</td>\n",
       "      <td>NaN</td>\n",
       "      <td>NaN</td>\n",
       "      <td>NaN</td>\n",
       "      <td>NaN</td>\n",
       "    </tr>\n",
       "    <tr>\n",
       "      <th>10844</th>\n",
       "      <td>http://www.wikidata.org/entity/Q64225559</td>\n",
       "      <td>Sully</td>\n",
       "      <td>m</td>\n",
       "      <td>1987-07-27T00:00:00Z</td>\n",
       "      <td>Río Piedras</td>\n",
       "      <td>Leon</td>\n",
       "      <td>Jessell</td>\n",
       "      <td>NaN</td>\n",
       "      <td>NaN</td>\n",
       "      <td>NaN</td>\n",
       "      <td>NaN</td>\n",
       "      <td>popular music</td>\n",
       "      <td>NaN</td>\n",
       "      <td>NaN</td>\n",
       "      <td>NaN</td>\n",
       "      <td>NaN</td>\n",
       "      <td>NaN</td>\n",
       "      <td>NaN</td>\n",
       "      <td>NaN</td>\n",
       "      <td>NaN</td>\n",
       "    </tr>\n",
       "  </tbody>\n",
       "</table>\n",
       "<p>10845 rows × 20 columns</p>\n",
       "</div>"
      ],
      "text/plain": [
       "                                     musicianID             musicianName  \\\n",
       "0          http://www.wikidata.org/entity/Q6096          Bigg Snoop Dogg   \n",
       "1          http://www.wikidata.org/entity/Q5977          00085469927 IPI   \n",
       "2          http://www.wikidata.org/entity/Q8349              Al Yankovic   \n",
       "3          http://www.wikidata.org/entity/Q1779                     Pops   \n",
       "4          http://www.wikidata.org/entity/Q4270              Ava DeLonge   \n",
       "...                                         ...                      ...   \n",
       "10840  http://www.wikidata.org/entity/Q65463024                Miko Cree   \n",
       "10841  http://www.wikidata.org/entity/Q61000234  Casado com Sina Deinert   \n",
       "10842  http://www.wikidata.org/entity/Q61693947                      NaN   \n",
       "10843  http://www.wikidata.org/entity/Q75046320                      NaN   \n",
       "10844  http://www.wikidata.org/entity/Q64225559                    Sully   \n",
       "\n",
       "      genderType             birthDate          city familyName  forename  \\\n",
       "0              m  1971-10-20T00:00:00Z    Long Beach    Broadus  Cordozar   \n",
       "1              m  1936-09-07T00:00:00Z       Lubbock     Holley    Hardin   \n",
       "2              m  1959-10-23T00:00:00Z        Downey   Yankovic    Alfred   \n",
       "3              m  1901-08-04T00:00:00Z   New Orleans  Armstrong     Louis   \n",
       "4              m  1975-12-13T00:00:00Z         Poway    Delonge    Thomas   \n",
       "...          ...                   ...           ...        ...       ...   \n",
       "10840          m  1901-01-01T00:00:00Z       Florida   González     Credo   \n",
       "10841          m  2001-03-31T00:00:00Z        Orange      Urrea      Noah   \n",
       "10842          f  2001-05-03T00:00:00Z       Clifton        NaN    Rachel   \n",
       "10843          f  2002-03-31T00:00:00Z  Walnut Creek     Walker      Lexi   \n",
       "10844          m  1987-07-27T00:00:00Z   Río Piedras       Leon   Jessell   \n",
       "\n",
       "                fatherName     motherName                spouse  NChildren  \\\n",
       "0                      NaN            NaN                   NaN        4.0   \n",
       "1                      NaN            NaN     Maria Elena Holly        NaN   \n",
       "2      Nick Louis Yankovic  Mary Yankovic      Suzanne Yankovic        NaN   \n",
       "3                      NaN            NaN  Lil Hardin Armstrong        NaN   \n",
       "4                      NaN            NaN      Jennifer DeLonge        NaN   \n",
       "...                    ...            ...                   ...        ...   \n",
       "10840                  NaN            NaN                   NaN        NaN   \n",
       "10841                  NaN            NaN                   NaN        NaN   \n",
       "10842                  NaN            NaN                   NaN        NaN   \n",
       "10843                  NaN            NaN                   NaN        NaN   \n",
       "10844                  NaN            NaN                   NaN        NaN   \n",
       "\n",
       "                         kind                              webpage residence  \\\n",
       "0      African-American music                http://snoopdogg.com/       NaN   \n",
       "1               rock and roll            http://www.buddyholly.com       NaN   \n",
       "2                       humor                  http://weirdal.com/       NaN   \n",
       "3               popular music  http://www.louisarmstronghouse.org/       NaN   \n",
       "4                   pop music                http://blink-182.com/   Del Mar   \n",
       "...                       ...                                  ...       ...   \n",
       "10840             dance music                                  NaN       NaN   \n",
       "10841                     NaN           https://www.noahurrea.com/       NaN   \n",
       "10842                     NaN                                  NaN       NaN   \n",
       "10843                     NaN                                  NaN       NaN   \n",
       "10844           popular music                                  NaN       NaN   \n",
       "\n",
       "               ethnicity religionLabel               kickoff twitterUsername  \\\n",
       "0      African Americans         Islam  1991-01-01T00:00:00Z       snoopdogg   \n",
       "1                    NaN      Baptists  1952-01-01T00:00:00Z             NaN   \n",
       "2                    NaN  Christianity  1976-01-01T00:00:00Z      alyankovic   \n",
       "3      African Americans           NaN  1914-01-01T00:00:00Z             NaN   \n",
       "4                    NaN           NaN  1992-01-01T00:00:00Z      tomdelonge   \n",
       "...                  ...           ...                   ...             ...   \n",
       "10840                NaN           NaN  2017-01-01T00:00:00Z        MikoCree   \n",
       "10841                NaN           NaN                   NaN       noahurrea   \n",
       "10842                NaN           NaN                   NaN    rachelzegler   \n",
       "10843                NaN           NaN                   NaN             NaN   \n",
       "10844                NaN           NaN                   NaN             NaN   \n",
       "\n",
       "         geniusNameLabel          recordCompany  \n",
       "0             Snoop-dogg      Death Row Records  \n",
       "1            Buddy-holly              Brunswick  \n",
       "2      Weird-al-yankovic  Volcano Entertainment  \n",
       "3                    NaN                  Decca  \n",
       "4            Tom-delonge            DGC Records  \n",
       "...                  ...                    ...  \n",
       "10840          mikocreed     Latin Sumo Records  \n",
       "10841         Noah-urrea                    NaN  \n",
       "10842      Rachel-zegler                    NaN  \n",
       "10843                NaN                    NaN  \n",
       "10844                NaN                    NaN  \n",
       "\n",
       "[10845 rows x 20 columns]"
      ]
     },
     "execution_count": 23,
     "metadata": {},
     "output_type": "execute_result"
    }
   ],
   "source": [
    "df1"
   ]
  },
  {
   "cell_type": "code",
   "execution_count": 24,
   "id": "aa7a7b9b",
   "metadata": {},
   "outputs": [
    {
     "name": "stderr",
     "output_type": "stream",
     "text": [
      "100%|██████████████████████████████████████████████████████████████████████████████████| 20/20 [01:11<00:00,  3.58s/it]\n"
     ]
    },
    {
     "data": {
      "text/plain": [
       "[{'tagname': 'url', 'attributes': ['musician'], 'full': '#url+musician'},\n",
       " {'tagname': 'person', 'attributes': ['label'], 'full': '#person+label'},\n",
       " {'tagname': 'gender', 'attributes': ['label'], 'full': '#gender+label'},\n",
       " {'tagname': 'date', 'attributes': ['birth'], 'full': '#date+birth'},\n",
       " {'tagname': 'city', 'attributes': ['label'], 'full': '#city+label'},\n",
       " {'tagname': 'family', 'attributes': ['name'], 'full': '#family+name'},\n",
       " {'tagname': 'name', 'attributes': ['label'], 'full': '#name+label'},\n",
       " {'tagname': 'person',\n",
       "  'attributes': ['name', 'label'],\n",
       "  'full': '#person+name+label'},\n",
       " {'tagname': 'person',\n",
       "  'attributes': ['name', 'mother'],\n",
       "  'full': '#person+name+mother'},\n",
       " {'tagname': 'person', 'attributes': ['name'], 'full': '#person+name'},\n",
       " {'tagname': 'count', 'attributes': ['children'], 'full': '#count+children'},\n",
       " {'tagname': 'genre', 'attributes': ['label'], 'full': '#genre+label'},\n",
       " {'tagname': 'url', 'attributes': ['website'], 'full': '#url+website'},\n",
       " {'tagname': 'geo', 'attributes': ['residence'], 'full': '#geo+residence'},\n",
       " {'tagname': 'ethnicity', 'attributes': ['label'], 'full': '#ethnicity+label'},\n",
       " {'tagname': 'religion', 'attributes': ['label'], 'full': '#religion+label'},\n",
       " {'tagname': 'date', 'attributes': ['start'], 'full': '#date+start'},\n",
       " {'tagname': 'twitter', 'attributes': ['name'], 'full': '#twitter+name'},\n",
       " {'tagname': 'genius', 'attributes': ['name'], 'full': '#genius+name'},\n",
       " {'tagname': 'label', 'attributes': ['record'], 'full': '#label+record'}]"
      ]
     },
     "execution_count": 24,
     "metadata": {},
     "output_type": "execute_result"
    }
   ],
   "source": [
    "path_ = r'C:\\Users\\shepe\\Downloads\\Valentine-datasets\\Wikidata\\Musicians\\Musicians_unionable'\n",
    "all_data_name1 = 'musicians_unionable'\n",
    "data_name1 = all_data_name1+'_source'\n",
    "df1 = pd.read_csv(r'{}\\{}'.format(path_,data_name1+'.csv'))\n",
    "table1_hxl_tags = hxl_tagger.get_hxl_tags(df1)\n",
    "table1_hxl_tags"
   ]
  },
  {
   "cell_type": "code",
   "execution_count": 13,
   "id": "5ec52599",
   "metadata": {},
   "outputs": [
    {
     "name": "stderr",
     "output_type": "stream",
     "text": [
      "100%|██████████████████████████████████████████████████████████████████████████████████| 20/20 [01:17<00:00,  3.86s/it]\n"
     ]
    },
    {
     "data": {
      "text/plain": [
       "[{'tagname': 'id', 'attributes': ['musician'], 'full': '#id+musician'},\n",
       " {'tagname': 'name', 'attributes': ['musician'], 'full': '#name+musician'},\n",
       " {'tagname': 'gender', 'attributes': ['type'], 'full': '#gender+type'},\n",
       " {'tagname': 'date', 'attributes': ['birth'], 'full': '#date+birth'},\n",
       " {'tagname': 'city', 'attributes': ['name'], 'full': '#city+name'},\n",
       " {'tagname': 'family', 'attributes': ['name'], 'full': '#family+name'},\n",
       " {'tagname': 'name', 'attributes': ['fore'], 'full': '#name+fore'},\n",
       " {'tagname': 'name', 'attributes': ['father'], 'full': '#name+father'},\n",
       " {'tagname': 'name', 'attributes': ['mother'], 'full': '#name+mother'},\n",
       " {'tagname': 'name', 'attributes': ['spouse'], 'full': '#name+spouse'},\n",
       " {'tagname': 'children', 'attributes': ['n'], 'full': '#children+n'},\n",
       " {'tagname': 'genre', 'attributes': ['kind'], 'full': '#genre+kind'},\n",
       " {'tagname': 'url', 'attributes': ['webpage'], 'full': '#url+webpage'},\n",
       " {'tagname': 'geo', 'attributes': ['residence'], 'full': '#geo+residence'},\n",
       " {'tagname': 'ethnicity', 'attributes': [], 'full': '#ethnicity'},\n",
       " {'tagname': 'religion', 'attributes': ['label'], 'full': '#religion+label'},\n",
       " {'tagname': 'date', 'attributes': ['kickoff'], 'full': '#date+kickoff'},\n",
       " {'tagname': 'user', 'attributes': ['name'], 'full': '#user+name'},\n",
       " {'tagname': 'name', 'attributes': ['genius'], 'full': '#name+genius'},\n",
       " {'tagname': 'company', 'attributes': ['name'], 'full': '#company+name'}]"
      ]
     },
     "execution_count": 13,
     "metadata": {},
     "output_type": "execute_result"
    }
   ],
   "source": [
    "path_ = r'C:\\Users\\shepe\\Downloads\\Valentine-datasets\\Wikidata\\Musicians\\Musicians_unionable'\n",
    "all_data_name1 = 'musicians_unionable'\n",
    "data_name1 = all_data_name1+'_target'\n",
    "df1 = pd.read_csv(r'{}\\{}'.format(path_,data_name1+'.csv'))\n",
    "table1_hxl_tags = hxl_tagger.get_hxl_tags(df1)\n",
    "table1_hxl_tags"
   ]
  },
  {
   "cell_type": "code",
   "execution_count": 17,
   "id": "750ccf37",
   "metadata": {},
   "outputs": [],
   "source": [
    "names_ = ['Количество пропущенных значений', 'Не числовое значение', \n",
    "         'Количество уникальных значений', 'Максимальная длина (str)', 'Минимальная длина (str)', 'Средняя длина (str)',\n",
    "         'Количество значений ненулевых значений (not str)', 'Среднее значение (not str)','Среднеквадратичное отклонение (not str)',\n",
    "         'Минимальное значение (not str)','Процентиль 25% (not str)','Процентиль 50% (not str)','Процентиль 75% (not str)','Максимальное значение(not str)']\n",
    "names_2 = ['Признак из тэгов (blue score)','Признак из тэгов (jaccard score)','Расстояния Хэмминга (str)', 'сходство Джаро-Винклера (str)'\n",
    "           , 'Косинусное расстояние (str)', 'Коэффициент корреляции (not str)']"
   ]
  },
  {
   "cell_type": "code",
   "execution_count": 25,
   "id": "bf81c5f6",
   "metadata": {},
   "outputs": [
    {
     "data": {
      "text/html": [
       "<style type=\"text/css\">\n",
       "</style>\n",
       "<table id=\"T_9ea57\">\n",
       "  <thead>\n",
       "    <tr>\n",
       "      <th id=\"T_9ea57_level0_col0\" class=\"col_heading level0 col0\" >Название признака</th>\n",
       "      <th id=\"T_9ea57_level0_col1\" class=\"col_heading level0 col1\" >Значение признака</th>\n",
       "    </tr>\n",
       "  </thead>\n",
       "  <tbody>\n",
       "    <tr>\n",
       "      <td id=\"T_9ea57_row0_col0\" class=\"data row0 col0\" >Количество пропущенных значений</td>\n",
       "      <td id=\"T_9ea57_row0_col1\" class=\"data row0 col1\" >0.367727</td>\n",
       "    </tr>\n",
       "    <tr>\n",
       "      <td id=\"T_9ea57_row1_col0\" class=\"data row1 col0\" >Не числовое значение</td>\n",
       "      <td id=\"T_9ea57_row1_col1\" class=\"data row1 col1\" >1.000000</td>\n",
       "    </tr>\n",
       "    <tr>\n",
       "      <td id=\"T_9ea57_row2_col0\" class=\"data row2 col0\" >Количество уникальных значений</td>\n",
       "      <td id=\"T_9ea57_row2_col1\" class=\"data row2 col1\" >336.000000</td>\n",
       "    </tr>\n",
       "    <tr>\n",
       "      <td id=\"T_9ea57_row3_col0\" class=\"data row3 col0\" >Максимальная длина (str)</td>\n",
       "      <td id=\"T_9ea57_row3_col1\" class=\"data row3 col1\" >28.000000</td>\n",
       "    </tr>\n",
       "    <tr>\n",
       "      <td id=\"T_9ea57_row4_col0\" class=\"data row4 col0\" >Минимальная длина (str)</td>\n",
       "      <td id=\"T_9ea57_row4_col1\" class=\"data row4 col1\" >3.000000</td>\n",
       "    </tr>\n",
       "    <tr>\n",
       "      <td id=\"T_9ea57_row5_col0\" class=\"data row5 col0\" >Средняя длина (str)</td>\n",
       "      <td id=\"T_9ea57_row5_col1\" class=\"data row5 col1\" >11.094356</td>\n",
       "    </tr>\n",
       "    <tr>\n",
       "      <td id=\"T_9ea57_row6_col0\" class=\"data row6 col0\" >Количество значений ненулевых значений (not str)</td>\n",
       "      <td id=\"T_9ea57_row6_col1\" class=\"data row6 col1\" >0.000000</td>\n",
       "    </tr>\n",
       "    <tr>\n",
       "      <td id=\"T_9ea57_row7_col0\" class=\"data row7 col0\" >Среднее значение (not str)</td>\n",
       "      <td id=\"T_9ea57_row7_col1\" class=\"data row7 col1\" >0.000000</td>\n",
       "    </tr>\n",
       "    <tr>\n",
       "      <td id=\"T_9ea57_row8_col0\" class=\"data row8 col0\" >Среднеквадратичное отклонение (not str)</td>\n",
       "      <td id=\"T_9ea57_row8_col1\" class=\"data row8 col1\" >0.000000</td>\n",
       "    </tr>\n",
       "    <tr>\n",
       "      <td id=\"T_9ea57_row9_col0\" class=\"data row9 col0\" >Минимальное значение (not str)</td>\n",
       "      <td id=\"T_9ea57_row9_col1\" class=\"data row9 col1\" >0.000000</td>\n",
       "    </tr>\n",
       "    <tr>\n",
       "      <td id=\"T_9ea57_row10_col0\" class=\"data row10 col0\" >Процентиль 25% (not str)</td>\n",
       "      <td id=\"T_9ea57_row10_col1\" class=\"data row10 col1\" >0.000000</td>\n",
       "    </tr>\n",
       "    <tr>\n",
       "      <td id=\"T_9ea57_row11_col0\" class=\"data row11 col0\" >Процентиль 50% (not str)</td>\n",
       "      <td id=\"T_9ea57_row11_col1\" class=\"data row11 col1\" >0.000000</td>\n",
       "    </tr>\n",
       "    <tr>\n",
       "      <td id=\"T_9ea57_row12_col0\" class=\"data row12 col0\" >Процентиль 75% (not str)</td>\n",
       "      <td id=\"T_9ea57_row12_col1\" class=\"data row12 col1\" >0.000000</td>\n",
       "    </tr>\n",
       "    <tr>\n",
       "      <td id=\"T_9ea57_row13_col0\" class=\"data row13 col0\" >Максимальное значение(not str)</td>\n",
       "      <td id=\"T_9ea57_row13_col1\" class=\"data row13 col1\" >0.000000</td>\n",
       "    </tr>\n",
       "  </tbody>\n",
       "</table>\n"
      ],
      "text/plain": [
       "<pandas.io.formats.style.Styler at 0x296c9e0e5b0>"
      ]
     },
     "execution_count": 25,
     "metadata": {},
     "output_type": "execute_result"
    }
   ],
   "source": [
    "df2 = pd.DataFrame(zip(names_, vals[-1][:14]),columns = ['Название признака','Значение признака'])\n",
    "df2.style.hide()"
   ]
  },
  {
   "cell_type": "code",
   "execution_count": 26,
   "id": "6a260dc2",
   "metadata": {},
   "outputs": [
    {
     "data": {
      "text/html": [
       "<style type=\"text/css\">\n",
       "</style>\n",
       "<table id=\"T_41705\">\n",
       "  <thead>\n",
       "    <tr>\n",
       "      <th id=\"T_41705_level0_col0\" class=\"col_heading level0 col0\" >Название признака</th>\n",
       "      <th id=\"T_41705_level0_col1\" class=\"col_heading level0 col1\" >Значение признака</th>\n",
       "    </tr>\n",
       "  </thead>\n",
       "  <tbody>\n",
       "    <tr>\n",
       "      <td id=\"T_41705_row0_col0\" class=\"data row0 col0\" >Количество пропущенных значений</td>\n",
       "      <td id=\"T_41705_row0_col1\" class=\"data row0 col1\" >0.367727</td>\n",
       "    </tr>\n",
       "    <tr>\n",
       "      <td id=\"T_41705_row1_col0\" class=\"data row1 col0\" >Не числовое значение</td>\n",
       "      <td id=\"T_41705_row1_col1\" class=\"data row1 col1\" >1.000000</td>\n",
       "    </tr>\n",
       "    <tr>\n",
       "      <td id=\"T_41705_row2_col0\" class=\"data row2 col0\" >Количество уникальных значений</td>\n",
       "      <td id=\"T_41705_row2_col1\" class=\"data row2 col1\" >152.000000</td>\n",
       "    </tr>\n",
       "    <tr>\n",
       "      <td id=\"T_41705_row3_col0\" class=\"data row3 col0\" >Максимальная длина (str)</td>\n",
       "      <td id=\"T_41705_row3_col1\" class=\"data row3 col1\" >31.000000</td>\n",
       "    </tr>\n",
       "    <tr>\n",
       "      <td id=\"T_41705_row4_col0\" class=\"data row4 col0\" >Минимальная длина (str)</td>\n",
       "      <td id=\"T_41705_row4_col1\" class=\"data row4 col1\" >3.000000</td>\n",
       "    </tr>\n",
       "    <tr>\n",
       "      <td id=\"T_41705_row5_col0\" class=\"data row5 col0\" >Средняя длина (str)</td>\n",
       "      <td id=\"T_41705_row5_col1\" class=\"data row5 col1\" >11.749453</td>\n",
       "    </tr>\n",
       "    <tr>\n",
       "      <td id=\"T_41705_row6_col0\" class=\"data row6 col0\" >Количество значений ненулевых значений (not str)</td>\n",
       "      <td id=\"T_41705_row6_col1\" class=\"data row6 col1\" >0.000000</td>\n",
       "    </tr>\n",
       "    <tr>\n",
       "      <td id=\"T_41705_row7_col0\" class=\"data row7 col0\" >Среднее значение (not str)</td>\n",
       "      <td id=\"T_41705_row7_col1\" class=\"data row7 col1\" >0.000000</td>\n",
       "    </tr>\n",
       "    <tr>\n",
       "      <td id=\"T_41705_row8_col0\" class=\"data row8 col0\" >Среднеквадратичное отклонение (not str)</td>\n",
       "      <td id=\"T_41705_row8_col1\" class=\"data row8 col1\" >0.000000</td>\n",
       "    </tr>\n",
       "    <tr>\n",
       "      <td id=\"T_41705_row9_col0\" class=\"data row9 col0\" >Минимальное значение (not str)</td>\n",
       "      <td id=\"T_41705_row9_col1\" class=\"data row9 col1\" >0.000000</td>\n",
       "    </tr>\n",
       "    <tr>\n",
       "      <td id=\"T_41705_row10_col0\" class=\"data row10 col0\" >Процентиль 25% (not str)</td>\n",
       "      <td id=\"T_41705_row10_col1\" class=\"data row10 col1\" >0.000000</td>\n",
       "    </tr>\n",
       "    <tr>\n",
       "      <td id=\"T_41705_row11_col0\" class=\"data row11 col0\" >Процентиль 50% (not str)</td>\n",
       "      <td id=\"T_41705_row11_col1\" class=\"data row11 col1\" >0.000000</td>\n",
       "    </tr>\n",
       "    <tr>\n",
       "      <td id=\"T_41705_row12_col0\" class=\"data row12 col0\" >Процентиль 75% (not str)</td>\n",
       "      <td id=\"T_41705_row12_col1\" class=\"data row12 col1\" >0.000000</td>\n",
       "    </tr>\n",
       "    <tr>\n",
       "      <td id=\"T_41705_row13_col0\" class=\"data row13 col0\" >Максимальное значение(not str)</td>\n",
       "      <td id=\"T_41705_row13_col1\" class=\"data row13 col1\" >0.000000</td>\n",
       "    </tr>\n",
       "  </tbody>\n",
       "</table>\n"
      ],
      "text/plain": [
       "<pandas.io.formats.style.Styler at 0x296c9e4b4f0>"
      ]
     },
     "execution_count": 26,
     "metadata": {},
     "output_type": "execute_result"
    }
   ],
   "source": [
    "df2 = pd.DataFrame(zip(names_, vals[-1][14:28]),columns = ['Название признака','Значение признака'])\n",
    "df2.style.hide()"
   ]
  },
  {
   "cell_type": "code",
   "execution_count": 27,
   "id": "5cee332f",
   "metadata": {},
   "outputs": [
    {
     "data": {
      "text/html": [
       "<style type=\"text/css\">\n",
       "</style>\n",
       "<table id=\"T_6e2ba\">\n",
       "  <thead>\n",
       "    <tr>\n",
       "      <th id=\"T_6e2ba_level0_col0\" class=\"col_heading level0 col0\" >Название признака</th>\n",
       "      <th id=\"T_6e2ba_level0_col1\" class=\"col_heading level0 col1\" >Значение признака</th>\n",
       "    </tr>\n",
       "  </thead>\n",
       "  <tbody>\n",
       "    <tr>\n",
       "      <td id=\"T_6e2ba_row0_col0\" class=\"data row0 col0\" >Признак из тэгов (blue score)</td>\n",
       "      <td id=\"T_6e2ba_row0_col1\" class=\"data row0 col1\" >1.000000</td>\n",
       "    </tr>\n",
       "    <tr>\n",
       "      <td id=\"T_6e2ba_row1_col0\" class=\"data row1 col0\" >Признак из тэгов (jaccard score)</td>\n",
       "      <td id=\"T_6e2ba_row1_col1\" class=\"data row1 col1\" >0.000000</td>\n",
       "    </tr>\n",
       "    <tr>\n",
       "      <td id=\"T_6e2ba_row2_col0\" class=\"data row2 col0\" >Расстояния Хэмминга (str)</td>\n",
       "      <td id=\"T_6e2ba_row2_col1\" class=\"data row2 col1\" >0.051918</td>\n",
       "    </tr>\n",
       "    <tr>\n",
       "      <td id=\"T_6e2ba_row3_col0\" class=\"data row3 col0\" >сходство Джаро-Винклера (str)</td>\n",
       "      <td id=\"T_6e2ba_row3_col1\" class=\"data row3 col1\" >0.410445</td>\n",
       "    </tr>\n",
       "    <tr>\n",
       "      <td id=\"T_6e2ba_row4_col0\" class=\"data row4 col0\" >Косинусное расстояние (str)</td>\n",
       "      <td id=\"T_6e2ba_row4_col1\" class=\"data row4 col1\" >0.318944</td>\n",
       "    </tr>\n",
       "    <tr>\n",
       "      <td id=\"T_6e2ba_row5_col0\" class=\"data row5 col0\" >Коэффициент корреляции (not str)</td>\n",
       "      <td id=\"T_6e2ba_row5_col1\" class=\"data row5 col1\" >0.000000</td>\n",
       "    </tr>\n",
       "  </tbody>\n",
       "</table>\n"
      ],
      "text/plain": [
       "<pandas.io.formats.style.Styler at 0x296cc2e4bb0>"
      ]
     },
     "execution_count": 27,
     "metadata": {},
     "output_type": "execute_result"
    }
   ],
   "source": [
    "df2 = pd.DataFrame(zip(names_2, vals[-1][28:]),columns = ['Название признака','Значение признака'])\n",
    "df2.style.hide()"
   ]
  },
  {
   "cell_type": "code",
   "execution_count": null,
   "id": "61808d89",
   "metadata": {},
   "outputs": [],
   "source": []
  },
  {
   "cell_type": "code",
   "execution_count": null,
   "id": "e8cbe410",
   "metadata": {},
   "outputs": [],
   "source": []
  },
  {
   "cell_type": "code",
   "execution_count": null,
   "id": "c49f2a0e",
   "metadata": {},
   "outputs": [],
   "source": []
  },
  {
   "cell_type": "code",
   "execution_count": 84,
   "id": "35b23d09",
   "metadata": {},
   "outputs": [],
   "source": [
    "df = pd.read_pickle('./datasets/with_feature_extraction_2/train_tpc16.p')"
   ]
  },
  {
   "cell_type": "code",
   "execution_count": 85,
   "id": "f5c81dd7",
   "metadata": {},
   "outputs": [],
   "source": [
    "l1 = df[df['attribute_match']==1]"
   ]
  },
  {
   "cell_type": "code",
   "execution_count": 86,
   "id": "5cc8a434",
   "metadata": {},
   "outputs": [
    {
     "data": {
      "text/plain": [
       "array(['prospect_horizontal_50_ac1_ev_source',\n",
       "       'prospect_horizontal_50_ac1_ev_target', 'State', 'prospect_State',\n",
       "       1,\n",
       "       list([0.0, 1, 61, 20, 2, 3.5229619081523675, 0, 0, 0, 0, 0, 0, 0, 0, 0.0, 1, 61, 20, 2, 3.5422507008410093, 0, 0, 0, 0, 0, 0, 0, 0, 1.0, 0.0, 0.01708717127219328, 0.8041044422388991, 0.9518088372713923, 0])],\n",
       "      dtype=object)"
      ]
     },
     "execution_count": 86,
     "metadata": {},
     "output_type": "execute_result"
    }
   ],
   "source": [
    "vals  = l1.values[31]\n",
    "vals"
   ]
  },
  {
   "cell_type": "code",
   "execution_count": null,
   "id": "413c206d",
   "metadata": {},
   "outputs": [],
   "source": []
  },
  {
   "cell_type": "code",
   "execution_count": 103,
   "id": "77b6a5d2",
   "metadata": {},
   "outputs": [],
   "source": [
    "import pandas as pd\n",
    "path_ = r'C:\\Users\\shepe\\Downloads\\Valentine-datasets\\prospect\\Unionable'\n",
    "all_data_name1 = 'prospect_horizontal_50_ac1_ev'\n",
    "data_name1 = all_data_name1+'_source'\n",
    "df1 = pd.read_csv(r'{}\\{}\\{}'.format(path_, all_data_name1,data_name1+'.csv'))"
   ]
  },
  {
   "cell_type": "code",
   "execution_count": 104,
   "id": "bd2a4c2f",
   "metadata": {},
   "outputs": [
    {
     "name": "stderr",
     "output_type": "stream",
     "text": [
      "100%|██████████████████████████████████████████████████████████████████████████████████| 22/22 [01:10<00:00,  3.18s/it]\n"
     ]
    },
    {
     "data": {
      "text/plain": [
       "[{'tagname': 'id', 'attributes': ['agency'], 'full': '#id+agency'},\n",
       " {'tagname': 'name', 'attributes': ['last'], 'full': '#name+last'},\n",
       " {'tagname': 'name', 'attributes': [], 'full': '#name'},\n",
       " {'tagname': 'middle', 'attributes': ['initial'], 'full': '#middle+initial'},\n",
       " {'tagname': 'gender', 'attributes': ['name'], 'full': '#gender+name'},\n",
       " {'tagname': 'geo', 'attributes': ['address'], 'full': '#geo+address'},\n",
       " {'tagname': 'address', 'attributes': ['line'], 'full': '#address+line'},\n",
       " {'tagname': 'postcode', 'attributes': [], 'full': '#postcode'},\n",
       " {'tagname': 'city', 'attributes': ['name'], 'full': '#city+name'},\n",
       " {'tagname': 'state', 'attributes': ['name'], 'full': '#state+name'},\n",
       " {'tagname': 'country', 'attributes': ['name'], 'full': '#country+name'},\n",
       " {'tagname': 'phone', 'attributes': ['name'], 'full': '#phone+name'},\n",
       " {'tagname': 'income', 'attributes': [], 'full': '#income'},\n",
       " {'tagname': 'car', 'attributes': ['number'], 'full': '#car+number'},\n",
       " {'tagname': 'count', 'attributes': ['children'], 'full': '#count+children'},\n",
       " {'tagname': 'status', 'attributes': ['marriage'], 'full': '#status+marriage'},\n",
       " {'tagname': 'age', 'attributes': [], 'full': '#age'},\n",
       " {'tagname': 'score', 'attributes': ['credit'], 'full': '#score+credit'},\n",
       " {'tagname': 'property',\n",
       "  'attributes': ['owner', 'rental'],\n",
       "  'full': '#property+owner+rental'},\n",
       " {'tagname': 'org', 'attributes': ['name'], 'full': '#org+name'},\n",
       " {'tagname': 'number',\n",
       "  'attributes': ['creditcards'],\n",
       "  'full': '#number+creditcards'},\n",
       " {'tagname': 'value', 'attributes': ['networth'], 'full': '#value+networth'}]"
      ]
     },
     "execution_count": 104,
     "metadata": {},
     "output_type": "execute_result"
    }
   ],
   "source": [
    "table1_hxl_tags = hxl_tagger.get_hxl_tags(df1)\n",
    "table1_hxl_tags"
   ]
  },
  {
   "cell_type": "code",
   "execution_count": 105,
   "id": "c9581adb",
   "metadata": {},
   "outputs": [
    {
     "name": "stderr",
     "output_type": "stream",
     "text": [
      "100%|██████████████████████████████████████████████████████████████████████████████████| 22/22 [01:21<00:00,  3.68s/it]\n"
     ]
    }
   ],
   "source": [
    "data_name1 = all_data_name1+'_target'\n",
    "df2 = pd.read_csv(r'{}\\{}\\{}'.format(path_, all_data_name1,data_name1+'.csv'))\n",
    "table2_hxl_tags = hxl_tagger.get_hxl_tags(df2)"
   ]
  },
  {
   "cell_type": "code",
   "execution_count": 106,
   "id": "b9f447f2",
   "metadata": {},
   "outputs": [
    {
     "data": {
      "text/plain": [
       "[{'tagname': 'id', 'attributes': ['prospect'], 'full': '#id+prospect'},\n",
       " {'tagname': 'person', 'attributes': ['name'], 'full': '#person+name'},\n",
       " {'tagname': 'person', 'attributes': ['name'], 'full': '#person+name'},\n",
       " {'tagname': 'id', 'attributes': ['prospect'], 'full': '#id+prospect'},\n",
       " {'tagname': 'gender', 'attributes': ['prospect'], 'full': '#gender+prospect'},\n",
       " {'tagname': 'email', 'attributes': ['prospect'], 'full': '#email+prospect'},\n",
       " {'tagname': 'email', 'attributes': ['prospect'], 'full': '#email+prospect'},\n",
       " {'tagname': 'postal', 'attributes': ['code'], 'full': '#postal+code'},\n",
       " {'tagname': 'city', 'attributes': ['prospect'], 'full': '#city+prospect'},\n",
       " {'tagname': 'state', 'attributes': ['prospect'], 'full': '#state+prospect'},\n",
       " {'tagname': 'country',\n",
       "  'attributes': ['prospect'],\n",
       "  'full': '#country+prospect'},\n",
       " {'tagname': 'phone', 'attributes': ['prospect'], 'full': '#phone+prospect'},\n",
       " {'tagname': 'income', 'attributes': ['prospect'], 'full': '#income+prospect'},\n",
       " {'tagname': 'pred', 'attributes': ['numbercars'], 'full': '#pred+numbercars'},\n",
       " {'tagname': 'pred',\n",
       "  'attributes': ['number', 'children'],\n",
       "  'full': '#pred+number+children'},\n",
       " {'tagname': 'status', 'attributes': ['mortgage'], 'full': '#status+mortgage'},\n",
       " {'tagname': 'age', 'attributes': ['prospect'], 'full': '#age+prospect'},\n",
       " {'tagname': 'rating', 'attributes': ['prospect'], 'full': '#rating+prospect'},\n",
       " {'tagname': 'property',\n",
       "  'attributes': ['owner', 'or', 'rent'],\n",
       "  'full': '#property+owner+or+rent'},\n",
       " {'tagname': 'person',\n",
       "  'attributes': ['name', 'employer'],\n",
       "  'full': '#person+name+employer'},\n",
       " {'tagname': 'id', 'attributes': ['creditcard'], 'full': '#id+creditcard'},\n",
       " {'tagname': 'value', 'attributes': ['networth'], 'full': '#value+networth'}]"
      ]
     },
     "execution_count": 106,
     "metadata": {},
     "output_type": "execute_result"
    }
   ],
   "source": [
    "table2_hxl_tags"
   ]
  },
  {
   "cell_type": "code",
   "execution_count": null,
   "id": "c7eb4ddf",
   "metadata": {},
   "outputs": [],
   "source": []
  },
  {
   "cell_type": "code",
   "execution_count": null,
   "id": "db44d0fe",
   "metadata": {},
   "outputs": [],
   "source": []
  },
  {
   "cell_type": "code",
   "execution_count": null,
   "id": "747ff5fa",
   "metadata": {},
   "outputs": [],
   "source": []
  },
  {
   "cell_type": "code",
   "execution_count": null,
   "id": "d29ba194",
   "metadata": {},
   "outputs": [],
   "source": []
  },
  {
   "cell_type": "code",
   "execution_count": null,
   "id": "517d6a35",
   "metadata": {},
   "outputs": [],
   "source": []
  },
  {
   "cell_type": "code",
   "execution_count": 87,
   "id": "2be5626c",
   "metadata": {},
   "outputs": [
    {
     "data": {
      "text/plain": [
       "[0.0, 1, 61, 20, 2, 3.5229619081523675, 0, 0, 0, 0, 0, 0, 0, 0]"
      ]
     },
     "execution_count": 87,
     "metadata": {},
     "output_type": "execute_result"
    }
   ],
   "source": [
    "vals[-1][:14]"
   ]
  },
  {
   "cell_type": "code",
   "execution_count": 14,
   "id": "6ab77e3d",
   "metadata": {},
   "outputs": [],
   "source": [
    "names_ = ['Количество пропущенных значений', 'Не числовое значение', \n",
    "         'Количество уникальных значений', 'Максимальная длина (str)', 'Минимальная длина (str)', 'Средняя длина (str)',\n",
    "         'Количество значений ненулевых значений (not str)', 'Среднее значение (not str)','Среднеквадратичное отклонение (not str)',\n",
    "         'Минимальное значение (not str)','Процентиль 25% (not str)','Процентиль 50% (not str)','Процентиль 75% (not str)','Максимальное значение(not str)']"
   ]
  },
  {
   "cell_type": "code",
   "execution_count": 89,
   "id": "ec5067cd",
   "metadata": {},
   "outputs": [
    {
     "data": {
      "text/plain": [
       "<zip at 0x1766a086c80>"
      ]
     },
     "execution_count": 89,
     "metadata": {},
     "output_type": "execute_result"
    }
   ],
   "source": [
    "zip(names_, vals[-1][:14])"
   ]
  },
  {
   "cell_type": "code",
   "execution_count": 90,
   "id": "c4aab558",
   "metadata": {},
   "outputs": [],
   "source": [
    "df2 = pd.DataFrame(zip(names_, vals[-1][:14]),columns = ['Название признака','Значение признака'])"
   ]
  },
  {
   "cell_type": "code",
   "execution_count": 91,
   "id": "5cfad7c7",
   "metadata": {},
   "outputs": [
    {
     "data": {
      "text/html": [
       "<style type=\"text/css\">\n",
       "</style>\n",
       "<table id=\"T_c861e\">\n",
       "  <thead>\n",
       "    <tr>\n",
       "      <th id=\"T_c861e_level0_col0\" class=\"col_heading level0 col0\" >Название признака</th>\n",
       "      <th id=\"T_c861e_level0_col1\" class=\"col_heading level0 col1\" >Значение признака</th>\n",
       "    </tr>\n",
       "  </thead>\n",
       "  <tbody>\n",
       "    <tr>\n",
       "      <td id=\"T_c861e_row0_col0\" class=\"data row0 col0\" >Количество пропущенных значений</td>\n",
       "      <td id=\"T_c861e_row0_col1\" class=\"data row0 col1\" >0.000000</td>\n",
       "    </tr>\n",
       "    <tr>\n",
       "      <td id=\"T_c861e_row1_col0\" class=\"data row1 col0\" >Не числовое значение</td>\n",
       "      <td id=\"T_c861e_row1_col1\" class=\"data row1 col1\" >1.000000</td>\n",
       "    </tr>\n",
       "    <tr>\n",
       "      <td id=\"T_c861e_row2_col0\" class=\"data row2 col0\" >Количество уникальных значений</td>\n",
       "      <td id=\"T_c861e_row2_col1\" class=\"data row2 col1\" >61.000000</td>\n",
       "    </tr>\n",
       "    <tr>\n",
       "      <td id=\"T_c861e_row3_col0\" class=\"data row3 col0\" >Максимальная длина (str)</td>\n",
       "      <td id=\"T_c861e_row3_col1\" class=\"data row3 col1\" >20.000000</td>\n",
       "    </tr>\n",
       "    <tr>\n",
       "      <td id=\"T_c861e_row4_col0\" class=\"data row4 col0\" >Минимальная длина (str)</td>\n",
       "      <td id=\"T_c861e_row4_col1\" class=\"data row4 col1\" >2.000000</td>\n",
       "    </tr>\n",
       "    <tr>\n",
       "      <td id=\"T_c861e_row5_col0\" class=\"data row5 col0\" >Средняя длина (str)</td>\n",
       "      <td id=\"T_c861e_row5_col1\" class=\"data row5 col1\" >3.522962</td>\n",
       "    </tr>\n",
       "    <tr>\n",
       "      <td id=\"T_c861e_row6_col0\" class=\"data row6 col0\" >Количество значений ненулевых значений (not str)</td>\n",
       "      <td id=\"T_c861e_row6_col1\" class=\"data row6 col1\" >0.000000</td>\n",
       "    </tr>\n",
       "    <tr>\n",
       "      <td id=\"T_c861e_row7_col0\" class=\"data row7 col0\" >Среднее значение (not str)</td>\n",
       "      <td id=\"T_c861e_row7_col1\" class=\"data row7 col1\" >0.000000</td>\n",
       "    </tr>\n",
       "    <tr>\n",
       "      <td id=\"T_c861e_row8_col0\" class=\"data row8 col0\" >Среднеквадратичное отклонение (not str)</td>\n",
       "      <td id=\"T_c861e_row8_col1\" class=\"data row8 col1\" >0.000000</td>\n",
       "    </tr>\n",
       "    <tr>\n",
       "      <td id=\"T_c861e_row9_col0\" class=\"data row9 col0\" >Минимальное значение (not str)</td>\n",
       "      <td id=\"T_c861e_row9_col1\" class=\"data row9 col1\" >0.000000</td>\n",
       "    </tr>\n",
       "    <tr>\n",
       "      <td id=\"T_c861e_row10_col0\" class=\"data row10 col0\" >Процентиль 25% (not str)</td>\n",
       "      <td id=\"T_c861e_row10_col1\" class=\"data row10 col1\" >0.000000</td>\n",
       "    </tr>\n",
       "    <tr>\n",
       "      <td id=\"T_c861e_row11_col0\" class=\"data row11 col0\" >Процентиль 50% (not str)</td>\n",
       "      <td id=\"T_c861e_row11_col1\" class=\"data row11 col1\" >0.000000</td>\n",
       "    </tr>\n",
       "    <tr>\n",
       "      <td id=\"T_c861e_row12_col0\" class=\"data row12 col0\" >Процентиль 75% (not str)</td>\n",
       "      <td id=\"T_c861e_row12_col1\" class=\"data row12 col1\" >0.000000</td>\n",
       "    </tr>\n",
       "    <tr>\n",
       "      <td id=\"T_c861e_row13_col0\" class=\"data row13 col0\" >Максимальное значение(not str)</td>\n",
       "      <td id=\"T_c861e_row13_col1\" class=\"data row13 col1\" >0.000000</td>\n",
       "    </tr>\n",
       "  </tbody>\n",
       "</table>\n"
      ],
      "text/plain": [
       "<pandas.io.formats.style.Styler at 0x176626700d0>"
      ]
     },
     "execution_count": 91,
     "metadata": {},
     "output_type": "execute_result"
    }
   ],
   "source": [
    "df2.style.hide()"
   ]
  },
  {
   "cell_type": "code",
   "execution_count": 92,
   "id": "98932527",
   "metadata": {},
   "outputs": [
    {
     "data": {
      "text/html": [
       "<style type=\"text/css\">\n",
       "</style>\n",
       "<table id=\"T_d7b7f\">\n",
       "  <thead>\n",
       "    <tr>\n",
       "      <th id=\"T_d7b7f_level0_col0\" class=\"col_heading level0 col0\" >Название признака</th>\n",
       "      <th id=\"T_d7b7f_level0_col1\" class=\"col_heading level0 col1\" >Значение признака</th>\n",
       "    </tr>\n",
       "  </thead>\n",
       "  <tbody>\n",
       "    <tr>\n",
       "      <td id=\"T_d7b7f_row0_col0\" class=\"data row0 col0\" >Количество пропущенных значений</td>\n",
       "      <td id=\"T_d7b7f_row0_col1\" class=\"data row0 col1\" >0.000000</td>\n",
       "    </tr>\n",
       "    <tr>\n",
       "      <td id=\"T_d7b7f_row1_col0\" class=\"data row1 col0\" >Не числовое значение</td>\n",
       "      <td id=\"T_d7b7f_row1_col1\" class=\"data row1 col1\" >1.000000</td>\n",
       "    </tr>\n",
       "    <tr>\n",
       "      <td id=\"T_d7b7f_row2_col0\" class=\"data row2 col0\" >Количество уникальных значений</td>\n",
       "      <td id=\"T_d7b7f_row2_col1\" class=\"data row2 col1\" >61.000000</td>\n",
       "    </tr>\n",
       "    <tr>\n",
       "      <td id=\"T_d7b7f_row3_col0\" class=\"data row3 col0\" >Максимальная длина (str)</td>\n",
       "      <td id=\"T_d7b7f_row3_col1\" class=\"data row3 col1\" >20.000000</td>\n",
       "    </tr>\n",
       "    <tr>\n",
       "      <td id=\"T_d7b7f_row4_col0\" class=\"data row4 col0\" >Минимальная длина (str)</td>\n",
       "      <td id=\"T_d7b7f_row4_col1\" class=\"data row4 col1\" >2.000000</td>\n",
       "    </tr>\n",
       "    <tr>\n",
       "      <td id=\"T_d7b7f_row5_col0\" class=\"data row5 col0\" >Средняя длина (str)</td>\n",
       "      <td id=\"T_d7b7f_row5_col1\" class=\"data row5 col1\" >3.542251</td>\n",
       "    </tr>\n",
       "    <tr>\n",
       "      <td id=\"T_d7b7f_row6_col0\" class=\"data row6 col0\" >Количество значений ненулевых значений (not str)</td>\n",
       "      <td id=\"T_d7b7f_row6_col1\" class=\"data row6 col1\" >0.000000</td>\n",
       "    </tr>\n",
       "    <tr>\n",
       "      <td id=\"T_d7b7f_row7_col0\" class=\"data row7 col0\" >Среднее значение (not str)</td>\n",
       "      <td id=\"T_d7b7f_row7_col1\" class=\"data row7 col1\" >0.000000</td>\n",
       "    </tr>\n",
       "    <tr>\n",
       "      <td id=\"T_d7b7f_row8_col0\" class=\"data row8 col0\" >Среднеквадратичное отклонение (not str)</td>\n",
       "      <td id=\"T_d7b7f_row8_col1\" class=\"data row8 col1\" >0.000000</td>\n",
       "    </tr>\n",
       "    <tr>\n",
       "      <td id=\"T_d7b7f_row9_col0\" class=\"data row9 col0\" >Минимальное значение (not str)</td>\n",
       "      <td id=\"T_d7b7f_row9_col1\" class=\"data row9 col1\" >0.000000</td>\n",
       "    </tr>\n",
       "    <tr>\n",
       "      <td id=\"T_d7b7f_row10_col0\" class=\"data row10 col0\" >Процентиль 25% (not str)</td>\n",
       "      <td id=\"T_d7b7f_row10_col1\" class=\"data row10 col1\" >0.000000</td>\n",
       "    </tr>\n",
       "    <tr>\n",
       "      <td id=\"T_d7b7f_row11_col0\" class=\"data row11 col0\" >Процентиль 50% (not str)</td>\n",
       "      <td id=\"T_d7b7f_row11_col1\" class=\"data row11 col1\" >0.000000</td>\n",
       "    </tr>\n",
       "    <tr>\n",
       "      <td id=\"T_d7b7f_row12_col0\" class=\"data row12 col0\" >Процентиль 75% (not str)</td>\n",
       "      <td id=\"T_d7b7f_row12_col1\" class=\"data row12 col1\" >0.000000</td>\n",
       "    </tr>\n",
       "    <tr>\n",
       "      <td id=\"T_d7b7f_row13_col0\" class=\"data row13 col0\" >Максимальное значение(not str)</td>\n",
       "      <td id=\"T_d7b7f_row13_col1\" class=\"data row13 col1\" >0.000000</td>\n",
       "    </tr>\n",
       "  </tbody>\n",
       "</table>\n"
      ],
      "text/plain": [
       "<pandas.io.formats.style.Styler at 0x1766a06dc70>"
      ]
     },
     "execution_count": 92,
     "metadata": {},
     "output_type": "execute_result"
    }
   ],
   "source": [
    "df2 = pd.DataFrame(zip(names_, vals[-1][14:28]),columns = ['Название признака','Значение признака'])\n",
    "df2.style.hide()"
   ]
  },
  {
   "cell_type": "code",
   "execution_count": 93,
   "id": "ec59dfb9",
   "metadata": {},
   "outputs": [],
   "source": [
    "names_2 = ['Признак из тэгов (blue score)','Признак из тэгов (jaccard score)','Расстояния Хэмминга (str)', 'сходство Джаро-Винклера (str)'\n",
    "           , 'Косинусное расстояние (str)', 'Коэффициент корреляции (not str)']"
   ]
  },
  {
   "cell_type": "code",
   "execution_count": 94,
   "id": "7f33bd14",
   "metadata": {},
   "outputs": [
    {
     "data": {
      "text/html": [
       "<style type=\"text/css\">\n",
       "</style>\n",
       "<table id=\"T_f1e9d\">\n",
       "  <thead>\n",
       "    <tr>\n",
       "      <th id=\"T_f1e9d_level0_col0\" class=\"col_heading level0 col0\" >Название признака</th>\n",
       "      <th id=\"T_f1e9d_level0_col1\" class=\"col_heading level0 col1\" >Значение признака</th>\n",
       "    </tr>\n",
       "  </thead>\n",
       "  <tbody>\n",
       "    <tr>\n",
       "      <td id=\"T_f1e9d_row0_col0\" class=\"data row0 col0\" >Признак из тэгов (blue score)</td>\n",
       "      <td id=\"T_f1e9d_row0_col1\" class=\"data row0 col1\" >1.000000</td>\n",
       "    </tr>\n",
       "    <tr>\n",
       "      <td id=\"T_f1e9d_row1_col0\" class=\"data row1 col0\" >Признак из тэгов (jaccard score)</td>\n",
       "      <td id=\"T_f1e9d_row1_col1\" class=\"data row1 col1\" >0.000000</td>\n",
       "    </tr>\n",
       "    <tr>\n",
       "      <td id=\"T_f1e9d_row2_col0\" class=\"data row2 col0\" >Расстояния Хэмминга (str)</td>\n",
       "      <td id=\"T_f1e9d_row2_col1\" class=\"data row2 col1\" >0.017087</td>\n",
       "    </tr>\n",
       "    <tr>\n",
       "      <td id=\"T_f1e9d_row3_col0\" class=\"data row3 col0\" >сходство Джаро-Винклера (str)</td>\n",
       "      <td id=\"T_f1e9d_row3_col1\" class=\"data row3 col1\" >0.804104</td>\n",
       "    </tr>\n",
       "    <tr>\n",
       "      <td id=\"T_f1e9d_row4_col0\" class=\"data row4 col0\" >Косинусное расстояние (str)</td>\n",
       "      <td id=\"T_f1e9d_row4_col1\" class=\"data row4 col1\" >0.951809</td>\n",
       "    </tr>\n",
       "    <tr>\n",
       "      <td id=\"T_f1e9d_row5_col0\" class=\"data row5 col0\" >Коэффициент корреляции (not str)</td>\n",
       "      <td id=\"T_f1e9d_row5_col1\" class=\"data row5 col1\" >0.000000</td>\n",
       "    </tr>\n",
       "  </tbody>\n",
       "</table>\n"
      ],
      "text/plain": [
       "<pandas.io.formats.style.Styler at 0x1766a08de20>"
      ]
     },
     "execution_count": 94,
     "metadata": {},
     "output_type": "execute_result"
    }
   ],
   "source": [
    "df2 = pd.DataFrame(zip(names_2, vals[-1][28:]),columns = ['Название признака','Значение признака'])\n",
    "df2.style.hide()"
   ]
  },
  {
   "cell_type": "code",
   "execution_count": 95,
   "id": "5155852d",
   "metadata": {},
   "outputs": [
    {
     "data": {
      "text/plain": [
       "array(['prospect_horizontal_50_ac1_ev_source',\n",
       "       'prospect_horizontal_50_ac1_ev_target', 'Income',\n",
       "       'prospect_Income', 1,\n",
       "       list([0.04983980064079744, 0, 10542, 0, 0, 0, 10676.0, 250198.03372049457, 144477.48164462842, 5.0, 124119.5, 252075.0, 375964.25, 499991.0, 0.050193565612067816, 0, 7050, 0, 0, 0, 7115.0, 252548.37723120168, 143471.95450001044, 25.0, 128525.5, 254093.0, 374778.0, 499967.0, 0.037374807627842434, 0.0, 0, 0, 0, 0.022947972723591024])],\n",
       "      dtype=object)"
      ]
     },
     "execution_count": 95,
     "metadata": {},
     "output_type": "execute_result"
    }
   ],
   "source": [
    "vals  = l1.values[34]\n",
    "vals"
   ]
  },
  {
   "cell_type": "code",
   "execution_count": 96,
   "id": "5be719bf",
   "metadata": {},
   "outputs": [
    {
     "data": {
      "text/html": [
       "<style type=\"text/css\">\n",
       "</style>\n",
       "<table id=\"T_ca493\">\n",
       "  <thead>\n",
       "    <tr>\n",
       "      <th id=\"T_ca493_level0_col0\" class=\"col_heading level0 col0\" >Название признака</th>\n",
       "      <th id=\"T_ca493_level0_col1\" class=\"col_heading level0 col1\" >Значение признака</th>\n",
       "    </tr>\n",
       "  </thead>\n",
       "  <tbody>\n",
       "    <tr>\n",
       "      <td id=\"T_ca493_row0_col0\" class=\"data row0 col0\" >Количество пропущенных значений</td>\n",
       "      <td id=\"T_ca493_row0_col1\" class=\"data row0 col1\" >0.049840</td>\n",
       "    </tr>\n",
       "    <tr>\n",
       "      <td id=\"T_ca493_row1_col0\" class=\"data row1 col0\" >Не числовое значение</td>\n",
       "      <td id=\"T_ca493_row1_col1\" class=\"data row1 col1\" >0.000000</td>\n",
       "    </tr>\n",
       "    <tr>\n",
       "      <td id=\"T_ca493_row2_col0\" class=\"data row2 col0\" >Количество уникальных значений</td>\n",
       "      <td id=\"T_ca493_row2_col1\" class=\"data row2 col1\" >10542.000000</td>\n",
       "    </tr>\n",
       "    <tr>\n",
       "      <td id=\"T_ca493_row3_col0\" class=\"data row3 col0\" >Максимальная длина (str)</td>\n",
       "      <td id=\"T_ca493_row3_col1\" class=\"data row3 col1\" >0.000000</td>\n",
       "    </tr>\n",
       "    <tr>\n",
       "      <td id=\"T_ca493_row4_col0\" class=\"data row4 col0\" >Минимальная длина (str)</td>\n",
       "      <td id=\"T_ca493_row4_col1\" class=\"data row4 col1\" >0.000000</td>\n",
       "    </tr>\n",
       "    <tr>\n",
       "      <td id=\"T_ca493_row5_col0\" class=\"data row5 col0\" >Средняя длина (str)</td>\n",
       "      <td id=\"T_ca493_row5_col1\" class=\"data row5 col1\" >0.000000</td>\n",
       "    </tr>\n",
       "    <tr>\n",
       "      <td id=\"T_ca493_row6_col0\" class=\"data row6 col0\" >Количество значений ненулевых значений (not str)</td>\n",
       "      <td id=\"T_ca493_row6_col1\" class=\"data row6 col1\" >10676.000000</td>\n",
       "    </tr>\n",
       "    <tr>\n",
       "      <td id=\"T_ca493_row7_col0\" class=\"data row7 col0\" >Среднее значение (not str)</td>\n",
       "      <td id=\"T_ca493_row7_col1\" class=\"data row7 col1\" >250198.033720</td>\n",
       "    </tr>\n",
       "    <tr>\n",
       "      <td id=\"T_ca493_row8_col0\" class=\"data row8 col0\" >Среднеквадратичное отклонение (not str)</td>\n",
       "      <td id=\"T_ca493_row8_col1\" class=\"data row8 col1\" >144477.481645</td>\n",
       "    </tr>\n",
       "    <tr>\n",
       "      <td id=\"T_ca493_row9_col0\" class=\"data row9 col0\" >Минимальное значение (not str)</td>\n",
       "      <td id=\"T_ca493_row9_col1\" class=\"data row9 col1\" >5.000000</td>\n",
       "    </tr>\n",
       "    <tr>\n",
       "      <td id=\"T_ca493_row10_col0\" class=\"data row10 col0\" >Процентиль 25% (not str)</td>\n",
       "      <td id=\"T_ca493_row10_col1\" class=\"data row10 col1\" >124119.500000</td>\n",
       "    </tr>\n",
       "    <tr>\n",
       "      <td id=\"T_ca493_row11_col0\" class=\"data row11 col0\" >Процентиль 50% (not str)</td>\n",
       "      <td id=\"T_ca493_row11_col1\" class=\"data row11 col1\" >252075.000000</td>\n",
       "    </tr>\n",
       "    <tr>\n",
       "      <td id=\"T_ca493_row12_col0\" class=\"data row12 col0\" >Процентиль 75% (not str)</td>\n",
       "      <td id=\"T_ca493_row12_col1\" class=\"data row12 col1\" >375964.250000</td>\n",
       "    </tr>\n",
       "    <tr>\n",
       "      <td id=\"T_ca493_row13_col0\" class=\"data row13 col0\" >Максимальное значение(not str)</td>\n",
       "      <td id=\"T_ca493_row13_col1\" class=\"data row13 col1\" >499991.000000</td>\n",
       "    </tr>\n",
       "  </tbody>\n",
       "</table>\n"
      ],
      "text/plain": [
       "<pandas.io.formats.style.Styler at 0x17663269d60>"
      ]
     },
     "execution_count": 96,
     "metadata": {},
     "output_type": "execute_result"
    }
   ],
   "source": [
    "df2 = pd.DataFrame(zip(names_, vals[-1][:14]),columns = ['Название признака','Значение признака'])\n",
    "df2.style.hide()"
   ]
  },
  {
   "cell_type": "code",
   "execution_count": 97,
   "id": "9d3d9cf3",
   "metadata": {},
   "outputs": [
    {
     "data": {
      "text/html": [
       "<style type=\"text/css\">\n",
       "</style>\n",
       "<table id=\"T_442c6\">\n",
       "  <thead>\n",
       "    <tr>\n",
       "      <th id=\"T_442c6_level0_col0\" class=\"col_heading level0 col0\" >Название признака</th>\n",
       "      <th id=\"T_442c6_level0_col1\" class=\"col_heading level0 col1\" >Значение признака</th>\n",
       "    </tr>\n",
       "  </thead>\n",
       "  <tbody>\n",
       "    <tr>\n",
       "      <td id=\"T_442c6_row0_col0\" class=\"data row0 col0\" >Количество пропущенных значений</td>\n",
       "      <td id=\"T_442c6_row0_col1\" class=\"data row0 col1\" >0.050194</td>\n",
       "    </tr>\n",
       "    <tr>\n",
       "      <td id=\"T_442c6_row1_col0\" class=\"data row1 col0\" >Не числовое значение</td>\n",
       "      <td id=\"T_442c6_row1_col1\" class=\"data row1 col1\" >0.000000</td>\n",
       "    </tr>\n",
       "    <tr>\n",
       "      <td id=\"T_442c6_row2_col0\" class=\"data row2 col0\" >Количество уникальных значений</td>\n",
       "      <td id=\"T_442c6_row2_col1\" class=\"data row2 col1\" >7050.000000</td>\n",
       "    </tr>\n",
       "    <tr>\n",
       "      <td id=\"T_442c6_row3_col0\" class=\"data row3 col0\" >Максимальная длина (str)</td>\n",
       "      <td id=\"T_442c6_row3_col1\" class=\"data row3 col1\" >0.000000</td>\n",
       "    </tr>\n",
       "    <tr>\n",
       "      <td id=\"T_442c6_row4_col0\" class=\"data row4 col0\" >Минимальная длина (str)</td>\n",
       "      <td id=\"T_442c6_row4_col1\" class=\"data row4 col1\" >0.000000</td>\n",
       "    </tr>\n",
       "    <tr>\n",
       "      <td id=\"T_442c6_row5_col0\" class=\"data row5 col0\" >Средняя длина (str)</td>\n",
       "      <td id=\"T_442c6_row5_col1\" class=\"data row5 col1\" >0.000000</td>\n",
       "    </tr>\n",
       "    <tr>\n",
       "      <td id=\"T_442c6_row6_col0\" class=\"data row6 col0\" >Количество значений ненулевых значений (not str)</td>\n",
       "      <td id=\"T_442c6_row6_col1\" class=\"data row6 col1\" >7115.000000</td>\n",
       "    </tr>\n",
       "    <tr>\n",
       "      <td id=\"T_442c6_row7_col0\" class=\"data row7 col0\" >Среднее значение (not str)</td>\n",
       "      <td id=\"T_442c6_row7_col1\" class=\"data row7 col1\" >252548.377231</td>\n",
       "    </tr>\n",
       "    <tr>\n",
       "      <td id=\"T_442c6_row8_col0\" class=\"data row8 col0\" >Среднеквадратичное отклонение (not str)</td>\n",
       "      <td id=\"T_442c6_row8_col1\" class=\"data row8 col1\" >143471.954500</td>\n",
       "    </tr>\n",
       "    <tr>\n",
       "      <td id=\"T_442c6_row9_col0\" class=\"data row9 col0\" >Минимальное значение (not str)</td>\n",
       "      <td id=\"T_442c6_row9_col1\" class=\"data row9 col1\" >25.000000</td>\n",
       "    </tr>\n",
       "    <tr>\n",
       "      <td id=\"T_442c6_row10_col0\" class=\"data row10 col0\" >Процентиль 25% (not str)</td>\n",
       "      <td id=\"T_442c6_row10_col1\" class=\"data row10 col1\" >128525.500000</td>\n",
       "    </tr>\n",
       "    <tr>\n",
       "      <td id=\"T_442c6_row11_col0\" class=\"data row11 col0\" >Процентиль 50% (not str)</td>\n",
       "      <td id=\"T_442c6_row11_col1\" class=\"data row11 col1\" >254093.000000</td>\n",
       "    </tr>\n",
       "    <tr>\n",
       "      <td id=\"T_442c6_row12_col0\" class=\"data row12 col0\" >Процентиль 75% (not str)</td>\n",
       "      <td id=\"T_442c6_row12_col1\" class=\"data row12 col1\" >374778.000000</td>\n",
       "    </tr>\n",
       "    <tr>\n",
       "      <td id=\"T_442c6_row13_col0\" class=\"data row13 col0\" >Максимальное значение(not str)</td>\n",
       "      <td id=\"T_442c6_row13_col1\" class=\"data row13 col1\" >499967.000000</td>\n",
       "    </tr>\n",
       "  </tbody>\n",
       "</table>\n"
      ],
      "text/plain": [
       "<pandas.io.formats.style.Styler at 0x1766914a880>"
      ]
     },
     "execution_count": 97,
     "metadata": {},
     "output_type": "execute_result"
    }
   ],
   "source": [
    "df2 = pd.DataFrame(zip(names_, vals[-1][14:28]),columns = ['Название признака','Значение признака'])\n",
    "df2.style.hide()"
   ]
  },
  {
   "cell_type": "code",
   "execution_count": 101,
   "id": "8077a15a",
   "metadata": {},
   "outputs": [
    {
     "data": {
      "text/html": [
       "<style type=\"text/css\">\n",
       "</style>\n",
       "<table id=\"T_74a08\">\n",
       "  <thead>\n",
       "    <tr>\n",
       "      <th id=\"T_74a08_level0_col0\" class=\"col_heading level0 col0\" >Название признака</th>\n",
       "      <th id=\"T_74a08_level0_col1\" class=\"col_heading level0 col1\" >Значение признака</th>\n",
       "    </tr>\n",
       "  </thead>\n",
       "  <tbody>\n",
       "    <tr>\n",
       "      <td id=\"T_74a08_row0_col0\" class=\"data row0 col0\" >Признак из тэгов (blue score)</td>\n",
       "      <td id=\"T_74a08_row0_col1\" class=\"data row0 col1\" >0.037375</td>\n",
       "    </tr>\n",
       "    <tr>\n",
       "      <td id=\"T_74a08_row1_col0\" class=\"data row1 col0\" >Признак из тэгов (jaccard score)</td>\n",
       "      <td id=\"T_74a08_row1_col1\" class=\"data row1 col1\" >0.000000</td>\n",
       "    </tr>\n",
       "    <tr>\n",
       "      <td id=\"T_74a08_row2_col0\" class=\"data row2 col0\" >Расстояния Хэмминга (str)</td>\n",
       "      <td id=\"T_74a08_row2_col1\" class=\"data row2 col1\" >0.000000</td>\n",
       "    </tr>\n",
       "    <tr>\n",
       "      <td id=\"T_74a08_row3_col0\" class=\"data row3 col0\" >сходство Джаро-Винклера (str)</td>\n",
       "      <td id=\"T_74a08_row3_col1\" class=\"data row3 col1\" >0.000000</td>\n",
       "    </tr>\n",
       "    <tr>\n",
       "      <td id=\"T_74a08_row4_col0\" class=\"data row4 col0\" >Косинусное расстояние (str)</td>\n",
       "      <td id=\"T_74a08_row4_col1\" class=\"data row4 col1\" >0.000000</td>\n",
       "    </tr>\n",
       "    <tr>\n",
       "      <td id=\"T_74a08_row5_col0\" class=\"data row5 col0\" >Коэффициент корреляции (not str)</td>\n",
       "      <td id=\"T_74a08_row5_col1\" class=\"data row5 col1\" >0.022948</td>\n",
       "    </tr>\n",
       "  </tbody>\n",
       "</table>\n"
      ],
      "text/plain": [
       "<pandas.io.formats.style.Styler at 0x1766a524fd0>"
      ]
     },
     "execution_count": 101,
     "metadata": {},
     "output_type": "execute_result"
    }
   ],
   "source": [
    "df2 = pd.DataFrame(zip(names_2, vals[-1][28:]),columns = ['Название признака','Значение признака'])\n",
    "df2.style.hide()"
   ]
  }
 ],
 "metadata": {
  "kernelspec": {
   "display_name": "Python 3 (ipykernel)",
   "language": "python",
   "name": "python3"
  },
  "language_info": {
   "codemirror_mode": {
    "name": "ipython",
    "version": 3
   },
   "file_extension": ".py",
   "mimetype": "text/x-python",
   "name": "python",
   "nbconvert_exporter": "python",
   "pygments_lexer": "ipython3",
   "version": "3.9.13"
  }
 },
 "nbformat": 4,
 "nbformat_minor": 5
}
